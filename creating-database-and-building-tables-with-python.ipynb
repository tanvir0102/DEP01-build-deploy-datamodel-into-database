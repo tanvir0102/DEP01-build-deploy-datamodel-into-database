{
 "cells": [
  {
   "cell_type": "markdown",
   "id": "ee60322e",
   "metadata": {},
   "source": [
    "# Import the libery"
   ]
  },
  {
   "cell_type": "code",
   "execution_count": null,
   "id": "a0a2dba7",
   "metadata": {},
   "outputs": [],
   "source": [
    "import psycopg2"
   ]
  },
  {
   "cell_type": "markdown",
   "id": "ba338452",
   "metadata": {},
   "source": [
    "# Create the connection to database"
   ]
  },
  {
   "cell_type": "code",
   "execution_count": 5,
   "id": "672b2ff6",
   "metadata": {},
   "outputs": [],
   "source": [
    "try:\n",
    "    conn = psycopg2.connect(\"host=127.0.0.1 dbname=postgres user=postgres password=root\")\n",
    "except psycopg2.Error as e:\n",
    "    print(\"Error: could not make connection to the Postgres database\")\n",
    "    print(e)"
   ]
  },
  {
   "cell_type": "markdown",
   "id": "de558dc2",
   "metadata": {},
   "source": [
    "# Use the connection to get the cursor that can be used to execute queries"
   ]
  },
  {
   "cell_type": "code",
   "execution_count": 6,
   "id": "6d1a8095",
   "metadata": {},
   "outputs": [],
   "source": [
    "try:\n",
    "    cur = conn.cursor()\n",
    "except psycopg2.Error as e:\n",
    "    print(\"Error: could not get the curser to the Database\")\n",
    "    print(e)"
   ]
  },
  {
   "cell_type": "markdown",
   "id": "f2cbd34b",
   "metadata": {},
   "source": [
    "# Set automatic commit to be true so that each action is committed without having to call conn.commit() after each command.\n"
   ]
  },
  {
   "cell_type": "code",
   "execution_count": 7,
   "id": "ec48c427",
   "metadata": {},
   "outputs": [],
   "source": [
    "conn.set_session(autocommit=True)"
   ]
  },
  {
   "cell_type": "markdown",
   "id": "83abfd94",
   "metadata": {},
   "source": [
    "# Create a database to do the work in\n"
   ]
  },
  {
   "cell_type": "code",
   "execution_count": 8,
   "id": "fca895b3",
   "metadata": {},
   "outputs": [
    {
     "name": "stdout",
     "output_type": "stream",
     "text": [
      "database \"myfirstdb\" already exists\n",
      "\n"
     ]
    }
   ],
   "source": [
    "try:\n",
    "    cur.execute(\"create database myfirstdb\")\n",
    "except psycopg2.Error as e:\n",
    "    print(e)"
   ]
  },
  {
   "cell_type": "markdown",
   "id": "635a695b",
   "metadata": {},
   "source": [
    "# Let's connect to our database and get the new cursor\n"
   ]
  },
  {
   "cell_type": "code",
   "execution_count": 9,
   "id": "86219cae",
   "metadata": {},
   "outputs": [],
   "source": [
    "try:\n",
    "    conn.close()\n",
    "except psycopg2.Error as e:\n",
    "    print(e)\n",
    "\n",
    "try:\n",
    "    conn = psycopg2.connect(\"host=127.0.0.1 dbname=myfirstdb user=postgres password=root\")\n",
    "except psycopg2.Error as e:\n",
    "    print(\"Error: could not make connection to the Postgres database\")\n",
    "    print(e)\n",
    "    \n",
    "try:\n",
    "    cur = conn.cursor()\n",
    "except psycopg2.Error as e:\n",
    "    print(\"Error: could not get the curser to the Database\")\n",
    "    print(e)\n",
    "\n",
    "conn.set_session(autocommit=True)"
   ]
  },
  {
   "cell_type": "markdown",
   "id": "062257ec",
   "metadata": {},
   "source": [
    "# Create a Table for students which includes below columns\n"
   ]
  },
  {
   "cell_type": "code",
   "execution_count": 10,
   "id": "5dbe0807",
   "metadata": {},
   "outputs": [],
   "source": [
    "try:\n",
    "    cur.execute(\"CREATE TABLE IF NOT EXISTS students (student_id int, name varchar,\\\n",
    "    age int, gender varchar, subject varchar, marks int);\")\n",
    "except psycopg2.Error as e:\n",
    "    print(\"Error: Issue creating table\")\n",
    "    print(e)"
   ]
  },
  {
   "cell_type": "markdown",
   "id": "c619b159",
   "metadata": {},
   "source": [
    "# Insert two rows in the table\n"
   ]
  },
  {
   "cell_type": "code",
   "execution_count": 11,
   "id": "ab525b0c",
   "metadata": {},
   "outputs": [],
   "source": [
    "try:\n",
    "    cur.execute(\"INSERT INTO students (student_id, name, age, gender, subject, marks)\\\n",
    "               VALUES (%s, %s, %s, %s, %s, %s)\", \\\n",
    "                (1, \"Raj\", 23, \"Male\", \"Python\", 85))\n",
    "except psycopg2.Error as e:\n",
    "    print(\"Error: Inserting rows\")\n",
    "    print(e)\n",
    "    \n",
    "try:\n",
    "    cur.execute(\"INSERT INTO students (student_id, name, age, gender, subject, marks)\\\n",
    "               VALUES (%s, %s, %s, %s, %s, %s)\", \\\n",
    "                (2, \"Priya\", 22, \"Female\", \"Python\", 86))\n",
    "except psycopg2.Error as e:\n",
    "    print(\"Error: Inserting rows\")\n",
    "    print(e)"
   ]
  },
  {
   "cell_type": "markdown",
   "id": "473786ea",
   "metadata": {},
   "source": [
    "# Validate your data was inserted into the table\n"
   ]
  },
  {
   "cell_type": "code",
   "execution_count": 12,
   "id": "aa8c276c",
   "metadata": {},
   "outputs": [
    {
     "name": "stdout",
     "output_type": "stream",
     "text": [
      "(1, 'Raj', 23, 'Male', 'Python', 85)\n",
      "(2, 'Priya', 22, 'Female', 'Python', 86)\n"
     ]
    }
   ],
   "source": [
    "try:\n",
    "   cur.execute(\"SELECT * FROM students\")\n",
    "except psycopg2.Error as e:\n",
    "   print(\"Error: select *\")\n",
    "   print(e)\n",
    "\n",
    "row = cur.fetchone()\n",
    "while row:\n",
    "   print(row)\n",
    "   row = cur.fetchone()"
   ]
  },
  {
   "cell_type": "markdown",
   "id": "f4f802b4",
   "metadata": {},
   "source": [
    "# And Finally close your cursor and connection.\n"
   ]
  },
  {
   "cell_type": "code",
   "execution_count": 13,
   "id": "40d10581",
   "metadata": {},
   "outputs": [],
   "source": [
    "cur.close()\n",
    "conn.close()"
   ]
  },
  {
   "cell_type": "code",
   "execution_count": null,
   "id": "f9845f2e",
   "metadata": {},
   "outputs": [],
   "source": []
  }
 ],
 "metadata": {
  "kernelspec": {
   "display_name": "Python 3 (ipykernel)",
   "language": "python",
   "name": "python3"
  },
  "language_info": {
   "codemirror_mode": {
    "name": "ipython",
    "version": 3
   },
   "file_extension": ".py",
   "mimetype": "text/x-python",
   "name": "python",
   "nbconvert_exporter": "python",
   "pygments_lexer": "ipython3",
   "version": "3.11.2"
  }
 },
 "nbformat": 4,
 "nbformat_minor": 5
}
